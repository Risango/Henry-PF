{
 "cells": [
  {
   "cell_type": "markdown",
   "metadata": {},
   "source": [
    "<h1>EDA Google"
   ]
  },
  {
   "cell_type": "markdown",
   "metadata": {},
   "source": [
    "Vamos a analizar solo los 1 estado por este momento"
   ]
  },
  {
   "cell_type": "code",
   "execution_count": 4,
   "metadata": {},
   "outputs": [],
   "source": [
    "import os\n",
    "import pandas as pd\n",
    "import matplotlib.pyplot as plt\n",
    "import seaborn as sns"
   ]
  },
  {
   "cell_type": "code",
   "execution_count": 2,
   "metadata": {},
   "outputs": [
    {
     "data": {
      "text/html": [
       "<div>\n",
       "<style scoped>\n",
       "    .dataframe tbody tr th:only-of-type {\n",
       "        vertical-align: middle;\n",
       "    }\n",
       "\n",
       "    .dataframe tbody tr th {\n",
       "        vertical-align: top;\n",
       "    }\n",
       "\n",
       "    .dataframe thead th {\n",
       "        text-align: right;\n",
       "    }\n",
       "</style>\n",
       "<table border=\"1\" class=\"dataframe\">\n",
       "  <thead>\n",
       "    <tr style=\"text-align: right;\">\n",
       "      <th></th>\n",
       "      <th>user_id</th>\n",
       "      <th>name</th>\n",
       "      <th>time</th>\n",
       "      <th>rating</th>\n",
       "      <th>text</th>\n",
       "      <th>pics</th>\n",
       "      <th>resp</th>\n",
       "      <th>gmap_id</th>\n",
       "    </tr>\n",
       "  </thead>\n",
       "  <tbody>\n",
       "    <tr>\n",
       "      <th>0</th>\n",
       "      <td>1.049447e+20</td>\n",
       "      <td>Jaron Whitfield</td>\n",
       "      <td>1517731762839</td>\n",
       "      <td>5</td>\n",
       "      <td>Joe is quite unique of his line of work, he as...</td>\n",
       "      <td>None</td>\n",
       "      <td>None</td>\n",
       "      <td>0x89c6c63c8cd87141:0x54d0d283872eecbb</td>\n",
       "    </tr>\n",
       "    <tr>\n",
       "      <th>1</th>\n",
       "      <td>1.176097e+20</td>\n",
       "      <td>Jonathan McCarthy</td>\n",
       "      <td>1476276291163</td>\n",
       "      <td>5</td>\n",
       "      <td>For such a small place their impact on my life...</td>\n",
       "      <td>None</td>\n",
       "      <td>None</td>\n",
       "      <td>0x89c6c63c8cd87141:0x54d0d283872eecbb</td>\n",
       "    </tr>\n",
       "    <tr>\n",
       "      <th>2</th>\n",
       "      <td>1.105632e+20</td>\n",
       "      <td>Rocky Kev</td>\n",
       "      <td>1338826945578</td>\n",
       "      <td>5</td>\n",
       "      <td>I usually give them a call before I stop by to...</td>\n",
       "      <td>None</td>\n",
       "      <td>None</td>\n",
       "      <td>0x89c6c63c8cd87141:0x54d0d283872eecbb</td>\n",
       "    </tr>\n",
       "    <tr>\n",
       "      <th>3</th>\n",
       "      <td>1.128960e+20</td>\n",
       "      <td>Josep Valls</td>\n",
       "      <td>1363286110554</td>\n",
       "      <td>5</td>\n",
       "      <td>My bike had been sitting outdoors for a good w...</td>\n",
       "      <td>None</td>\n",
       "      <td>None</td>\n",
       "      <td>0x89c6c63c8cd87141:0x54d0d283872eecbb</td>\n",
       "    </tr>\n",
       "    <tr>\n",
       "      <th>4</th>\n",
       "      <td>1.106197e+20</td>\n",
       "      <td>Timaree Schmit</td>\n",
       "      <td>1548798329760</td>\n",
       "      <td>5</td>\n",
       "      <td>Always an easy experience. Service is knowledg...</td>\n",
       "      <td>None</td>\n",
       "      <td>None</td>\n",
       "      <td>0x89c6c63c8cd87141:0x54d0d283872eecbb</td>\n",
       "    </tr>\n",
       "    <tr>\n",
       "      <th>...</th>\n",
       "      <td>...</td>\n",
       "      <td>...</td>\n",
       "      <td>...</td>\n",
       "      <td>...</td>\n",
       "      <td>...</td>\n",
       "      <td>...</td>\n",
       "      <td>...</td>\n",
       "      <td>...</td>\n",
       "    </tr>\n",
       "    <tr>\n",
       "      <th>2399995</th>\n",
       "      <td>1.091214e+20</td>\n",
       "      <td>Aileen Blas</td>\n",
       "      <td>1617621797453</td>\n",
       "      <td>5</td>\n",
       "      <td>Great cookies, wonderful staff.  Very enjoyabl...</td>\n",
       "      <td>None</td>\n",
       "      <td>None</td>\n",
       "      <td>0x89cb5b2714dfeecf:0xe4f25ae9daa774ff</td>\n",
       "    </tr>\n",
       "    <tr>\n",
       "      <th>2399996</th>\n",
       "      <td>1.078737e+20</td>\n",
       "      <td>Joshua Juda</td>\n",
       "      <td>1604013876755</td>\n",
       "      <td>4</td>\n",
       "      <td>Good fresh baked cookies. Prices are a little ...</td>\n",
       "      <td>None</td>\n",
       "      <td>None</td>\n",
       "      <td>0x89cb5b2714dfeecf:0xe4f25ae9daa774ff</td>\n",
       "    </tr>\n",
       "    <tr>\n",
       "      <th>2399997</th>\n",
       "      <td>1.072232e+20</td>\n",
       "      <td>Anthony Casto</td>\n",
       "      <td>1614576293981</td>\n",
       "      <td>5</td>\n",
       "      <td>Best cookies ever</td>\n",
       "      <td>[{'url': ['https://lh5.googleusercontent.com/p...</td>\n",
       "      <td>None</td>\n",
       "      <td>0x89cb5b2714dfeecf:0xe4f25ae9daa774ff</td>\n",
       "    </tr>\n",
       "    <tr>\n",
       "      <th>2399998</th>\n",
       "      <td>1.058429e+20</td>\n",
       "      <td>Mark McKillop</td>\n",
       "      <td>1611092631663</td>\n",
       "      <td>5</td>\n",
       "      <td>Great place for a snack. Open really late and ...</td>\n",
       "      <td>None</td>\n",
       "      <td>None</td>\n",
       "      <td>0x89cb5b2714dfeecf:0xe4f25ae9daa774ff</td>\n",
       "    </tr>\n",
       "    <tr>\n",
       "      <th>2399999</th>\n",
       "      <td>1.013187e+20</td>\n",
       "      <td>Shawn Smith</td>\n",
       "      <td>1582499834928</td>\n",
       "      <td>5</td>\n",
       "      <td>Who doesn't love a walk in cookie store that h...</td>\n",
       "      <td>None</td>\n",
       "      <td>None</td>\n",
       "      <td>0x89cb5b2714dfeecf:0xe4f25ae9daa774ff</td>\n",
       "    </tr>\n",
       "  </tbody>\n",
       "</table>\n",
       "<p>2400000 rows × 8 columns</p>\n",
       "</div>"
      ],
      "text/plain": [
       "              user_id               name           time  rating  \\\n",
       "0        1.049447e+20    Jaron Whitfield  1517731762839       5   \n",
       "1        1.176097e+20  Jonathan McCarthy  1476276291163       5   \n",
       "2        1.105632e+20          Rocky Kev  1338826945578       5   \n",
       "3        1.128960e+20        Josep Valls  1363286110554       5   \n",
       "4        1.106197e+20     Timaree Schmit  1548798329760       5   \n",
       "...               ...                ...            ...     ...   \n",
       "2399995  1.091214e+20        Aileen Blas  1617621797453       5   \n",
       "2399996  1.078737e+20        Joshua Juda  1604013876755       4   \n",
       "2399997  1.072232e+20      Anthony Casto  1614576293981       5   \n",
       "2399998  1.058429e+20      Mark McKillop  1611092631663       5   \n",
       "2399999  1.013187e+20        Shawn Smith  1582499834928       5   \n",
       "\n",
       "                                                      text  \\\n",
       "0        Joe is quite unique of his line of work, he as...   \n",
       "1        For such a small place their impact on my life...   \n",
       "2        I usually give them a call before I stop by to...   \n",
       "3        My bike had been sitting outdoors for a good w...   \n",
       "4        Always an easy experience. Service is knowledg...   \n",
       "...                                                    ...   \n",
       "2399995  Great cookies, wonderful staff.  Very enjoyabl...   \n",
       "2399996  Good fresh baked cookies. Prices are a little ...   \n",
       "2399997                                  Best cookies ever   \n",
       "2399998  Great place for a snack. Open really late and ...   \n",
       "2399999  Who doesn't love a walk in cookie store that h...   \n",
       "\n",
       "                                                      pics  resp  \\\n",
       "0                                                     None  None   \n",
       "1                                                     None  None   \n",
       "2                                                     None  None   \n",
       "3                                                     None  None   \n",
       "4                                                     None  None   \n",
       "...                                                    ...   ...   \n",
       "2399995                                               None  None   \n",
       "2399996                                               None  None   \n",
       "2399997  [{'url': ['https://lh5.googleusercontent.com/p...  None   \n",
       "2399998                                               None  None   \n",
       "2399999                                               None  None   \n",
       "\n",
       "                                       gmap_id  \n",
       "0        0x89c6c63c8cd87141:0x54d0d283872eecbb  \n",
       "1        0x89c6c63c8cd87141:0x54d0d283872eecbb  \n",
       "2        0x89c6c63c8cd87141:0x54d0d283872eecbb  \n",
       "3        0x89c6c63c8cd87141:0x54d0d283872eecbb  \n",
       "4        0x89c6c63c8cd87141:0x54d0d283872eecbb  \n",
       "...                                        ...  \n",
       "2399995  0x89cb5b2714dfeecf:0xe4f25ae9daa774ff  \n",
       "2399996  0x89cb5b2714dfeecf:0xe4f25ae9daa774ff  \n",
       "2399997  0x89cb5b2714dfeecf:0xe4f25ae9daa774ff  \n",
       "2399998  0x89cb5b2714dfeecf:0xe4f25ae9daa774ff  \n",
       "2399999  0x89cb5b2714dfeecf:0xe4f25ae9daa774ff  \n",
       "\n",
       "[2400000 rows x 8 columns]"
      ]
     },
     "execution_count": 2,
     "metadata": {},
     "output_type": "execute_result"
    }
   ],
   "source": [
    "directory_pennsylvania = r'E:\\Documentos\\EDAGoogle\\Google Maps\\reviews-estados\\review-Pennsylvania'\n",
    "\n",
    "dfs = []\n",
    "\n",
    "def read_json_files(directory):\n",
    "    for filename in os.listdir(directory):\n",
    "        if filename.endswith(\".json\"):\n",
    "            file_path = os.path.join(directory, filename)\n",
    "            # Read each JSON file\n",
    "            df = pd.read_json(file_path, lines=True)\n",
    "            # Append the DataFrame to the list\n",
    "            dfs.append(df)\n",
    "\n",
    "read_json_files(directory_pennsylvania)\n",
    "\n",
    "combined_df = pd.concat(dfs, ignore_index=True)\n",
    "\n",
    "combined_df\n"
   ]
  },
  {
   "cell_type": "markdown",
   "metadata": {},
   "source": [
    "Revisar los Datos"
   ]
  },
  {
   "cell_type": "code",
   "execution_count": 7,
   "metadata": {},
   "outputs": [
    {
     "data": {
      "text/html": [
       "<div>\n",
       "<style scoped>\n",
       "    .dataframe tbody tr th:only-of-type {\n",
       "        vertical-align: middle;\n",
       "    }\n",
       "\n",
       "    .dataframe tbody tr th {\n",
       "        vertical-align: top;\n",
       "    }\n",
       "\n",
       "    .dataframe thead th {\n",
       "        text-align: right;\n",
       "    }\n",
       "</style>\n",
       "<table border=\"1\" class=\"dataframe\">\n",
       "  <thead>\n",
       "    <tr style=\"text-align: right;\">\n",
       "      <th></th>\n",
       "      <th>user_id</th>\n",
       "      <th>name</th>\n",
       "      <th>time</th>\n",
       "      <th>rating</th>\n",
       "      <th>text</th>\n",
       "      <th>pics</th>\n",
       "      <th>resp</th>\n",
       "      <th>gmap_id</th>\n",
       "    </tr>\n",
       "  </thead>\n",
       "  <tbody>\n",
       "    <tr>\n",
       "      <th>0</th>\n",
       "      <td>1.049447e+20</td>\n",
       "      <td>Jaron Whitfield</td>\n",
       "      <td>1517731762839</td>\n",
       "      <td>5</td>\n",
       "      <td>Joe is quite unique of his line of work, he as...</td>\n",
       "      <td>None</td>\n",
       "      <td>None</td>\n",
       "      <td>0x89c6c63c8cd87141:0x54d0d283872eecbb</td>\n",
       "    </tr>\n",
       "    <tr>\n",
       "      <th>1</th>\n",
       "      <td>1.176097e+20</td>\n",
       "      <td>Jonathan McCarthy</td>\n",
       "      <td>1476276291163</td>\n",
       "      <td>5</td>\n",
       "      <td>For such a small place their impact on my life...</td>\n",
       "      <td>None</td>\n",
       "      <td>None</td>\n",
       "      <td>0x89c6c63c8cd87141:0x54d0d283872eecbb</td>\n",
       "    </tr>\n",
       "    <tr>\n",
       "      <th>2</th>\n",
       "      <td>1.105632e+20</td>\n",
       "      <td>Rocky Kev</td>\n",
       "      <td>1338826945578</td>\n",
       "      <td>5</td>\n",
       "      <td>I usually give them a call before I stop by to...</td>\n",
       "      <td>None</td>\n",
       "      <td>None</td>\n",
       "      <td>0x89c6c63c8cd87141:0x54d0d283872eecbb</td>\n",
       "    </tr>\n",
       "    <tr>\n",
       "      <th>3</th>\n",
       "      <td>1.128960e+20</td>\n",
       "      <td>Josep Valls</td>\n",
       "      <td>1363286110554</td>\n",
       "      <td>5</td>\n",
       "      <td>My bike had been sitting outdoors for a good w...</td>\n",
       "      <td>None</td>\n",
       "      <td>None</td>\n",
       "      <td>0x89c6c63c8cd87141:0x54d0d283872eecbb</td>\n",
       "    </tr>\n",
       "    <tr>\n",
       "      <th>4</th>\n",
       "      <td>1.106197e+20</td>\n",
       "      <td>Timaree Schmit</td>\n",
       "      <td>1548798329760</td>\n",
       "      <td>5</td>\n",
       "      <td>Always an easy experience. Service is knowledg...</td>\n",
       "      <td>None</td>\n",
       "      <td>None</td>\n",
       "      <td>0x89c6c63c8cd87141:0x54d0d283872eecbb</td>\n",
       "    </tr>\n",
       "  </tbody>\n",
       "</table>\n",
       "</div>"
      ],
      "text/plain": [
       "        user_id               name           time  rating  \\\n",
       "0  1.049447e+20    Jaron Whitfield  1517731762839       5   \n",
       "1  1.176097e+20  Jonathan McCarthy  1476276291163       5   \n",
       "2  1.105632e+20          Rocky Kev  1338826945578       5   \n",
       "3  1.128960e+20        Josep Valls  1363286110554       5   \n",
       "4  1.106197e+20     Timaree Schmit  1548798329760       5   \n",
       "\n",
       "                                                text  pics  resp  \\\n",
       "0  Joe is quite unique of his line of work, he as...  None  None   \n",
       "1  For such a small place their impact on my life...  None  None   \n",
       "2  I usually give them a call before I stop by to...  None  None   \n",
       "3  My bike had been sitting outdoors for a good w...  None  None   \n",
       "4  Always an easy experience. Service is knowledg...  None  None   \n",
       "\n",
       "                                 gmap_id  \n",
       "0  0x89c6c63c8cd87141:0x54d0d283872eecbb  \n",
       "1  0x89c6c63c8cd87141:0x54d0d283872eecbb  \n",
       "2  0x89c6c63c8cd87141:0x54d0d283872eecbb  \n",
       "3  0x89c6c63c8cd87141:0x54d0d283872eecbb  \n",
       "4  0x89c6c63c8cd87141:0x54d0d283872eecbb  "
      ]
     },
     "execution_count": 7,
     "metadata": {},
     "output_type": "execute_result"
    }
   ],
   "source": [
    "combined_df.head()"
   ]
  },
  {
   "cell_type": "code",
   "execution_count": 8,
   "metadata": {},
   "outputs": [
    {
     "name": "stdout",
     "output_type": "stream",
     "text": [
      "<class 'pandas.core.frame.DataFrame'>\n",
      "RangeIndex: 2400000 entries, 0 to 2399999\n",
      "Data columns (total 8 columns):\n",
      " #   Column   Dtype  \n",
      "---  ------   -----  \n",
      " 0   user_id  float64\n",
      " 1   name     object \n",
      " 2   time     int64  \n",
      " 3   rating   int64  \n",
      " 4   text     object \n",
      " 5   pics     object \n",
      " 6   resp     object \n",
      " 7   gmap_id  object \n",
      "dtypes: float64(1), int64(2), object(5)\n",
      "memory usage: 146.5+ MB\n"
     ]
    }
   ],
   "source": [
    "combined_df.info()"
   ]
  },
  {
   "cell_type": "code",
   "execution_count": 9,
   "metadata": {},
   "outputs": [
    {
     "data": {
      "text/html": [
       "<div>\n",
       "<style scoped>\n",
       "    .dataframe tbody tr th:only-of-type {\n",
       "        vertical-align: middle;\n",
       "    }\n",
       "\n",
       "    .dataframe tbody tr th {\n",
       "        vertical-align: top;\n",
       "    }\n",
       "\n",
       "    .dataframe thead th {\n",
       "        text-align: right;\n",
       "    }\n",
       "</style>\n",
       "<table border=\"1\" class=\"dataframe\">\n",
       "  <thead>\n",
       "    <tr style=\"text-align: right;\">\n",
       "      <th></th>\n",
       "      <th>user_id</th>\n",
       "      <th>time</th>\n",
       "      <th>rating</th>\n",
       "    </tr>\n",
       "  </thead>\n",
       "  <tbody>\n",
       "    <tr>\n",
       "      <th>count</th>\n",
       "      <td>2.400000e+06</td>\n",
       "      <td>2.400000e+06</td>\n",
       "      <td>2.400000e+06</td>\n",
       "    </tr>\n",
       "    <tr>\n",
       "      <th>mean</th>\n",
       "      <td>1.092986e+20</td>\n",
       "      <td>1.553453e+12</td>\n",
       "      <td>4.345731e+00</td>\n",
       "    </tr>\n",
       "    <tr>\n",
       "      <th>std</th>\n",
       "      <td>5.270966e+18</td>\n",
       "      <td>4.188404e+10</td>\n",
       "      <td>1.091626e+00</td>\n",
       "    </tr>\n",
       "    <tr>\n",
       "      <th>min</th>\n",
       "      <td>1.000000e+20</td>\n",
       "      <td>6.626016e+11</td>\n",
       "      <td>1.000000e+00</td>\n",
       "    </tr>\n",
       "    <tr>\n",
       "      <th>25%</th>\n",
       "      <td>1.047738e+20</td>\n",
       "      <td>1.526765e+12</td>\n",
       "      <td>4.000000e+00</td>\n",
       "    </tr>\n",
       "    <tr>\n",
       "      <th>50%</th>\n",
       "      <td>1.092745e+20</td>\n",
       "      <td>1.555872e+12</td>\n",
       "      <td>5.000000e+00</td>\n",
       "    </tr>\n",
       "    <tr>\n",
       "      <th>75%</th>\n",
       "      <td>1.138516e+20</td>\n",
       "      <td>1.581711e+12</td>\n",
       "      <td>5.000000e+00</td>\n",
       "    </tr>\n",
       "    <tr>\n",
       "      <th>max</th>\n",
       "      <td>1.184467e+20</td>\n",
       "      <td>1.631133e+12</td>\n",
       "      <td>5.000000e+00</td>\n",
       "    </tr>\n",
       "  </tbody>\n",
       "</table>\n",
       "</div>"
      ],
      "text/plain": [
       "            user_id          time        rating\n",
       "count  2.400000e+06  2.400000e+06  2.400000e+06\n",
       "mean   1.092986e+20  1.553453e+12  4.345731e+00\n",
       "std    5.270966e+18  4.188404e+10  1.091626e+00\n",
       "min    1.000000e+20  6.626016e+11  1.000000e+00\n",
       "25%    1.047738e+20  1.526765e+12  4.000000e+00\n",
       "50%    1.092745e+20  1.555872e+12  5.000000e+00\n",
       "75%    1.138516e+20  1.581711e+12  5.000000e+00\n",
       "max    1.184467e+20  1.631133e+12  5.000000e+00"
      ]
     },
     "execution_count": 9,
     "metadata": {},
     "output_type": "execute_result"
    }
   ],
   "source": [
    "combined_df.describe()"
   ]
  },
  {
   "cell_type": "code",
   "execution_count": 14,
   "metadata": {},
   "outputs": [
    {
     "data": {
      "text/plain": [
       "user_id        2400000\n",
       "name           2400000\n",
       "time           2400000\n",
       "rating         2400000\n",
       "text           1358614\n",
       "pics             57810\n",
       "resp            300111\n",
       "gmap_id        2400000\n",
       "text_length    2400000\n",
       "dtype: int64"
      ]
     },
     "execution_count": 14,
     "metadata": {},
     "output_type": "execute_result"
    }
   ],
   "source": [
    "combined_df.count()"
   ]
  },
  {
   "cell_type": "code",
   "execution_count": 16,
   "metadata": {},
   "outputs": [],
   "source": [
    "for col in combined_df.columns:\n",
    "    combined_df[col] = combined_df[col].apply(lambda x: str(x) if isinstance(x, (list, dict)) else x)\n"
   ]
  },
  {
   "cell_type": "markdown",
   "metadata": {},
   "source": [
    "Eliminamos los duplicados"
   ]
  },
  {
   "cell_type": "code",
   "execution_count": 17,
   "metadata": {},
   "outputs": [],
   "source": [
    "combined_df.drop_duplicates(inplace=True)"
   ]
  },
  {
   "cell_type": "code",
   "execution_count": 18,
   "metadata": {},
   "outputs": [
    {
     "data": {
      "text/plain": [
       "user_id        2366432\n",
       "name           2366432\n",
       "time           2366432\n",
       "rating         2366432\n",
       "text           1328047\n",
       "pics             56308\n",
       "resp            295090\n",
       "gmap_id        2366432\n",
       "text_length    2366432\n",
       "dtype: int64"
      ]
     },
     "execution_count": 18,
     "metadata": {},
     "output_type": "execute_result"
    }
   ],
   "source": [
    "combined_df.count()"
   ]
  },
  {
   "cell_type": "markdown",
   "metadata": {},
   "source": [
    "Checamos la cantidad de nulos que contiene cada columna"
   ]
  },
  {
   "cell_type": "code",
   "execution_count": 19,
   "metadata": {},
   "outputs": [
    {
     "data": {
      "text/plain": [
       "user_id         0.000000\n",
       "name            0.000000\n",
       "time            0.000000\n",
       "rating          0.000000\n",
       "text           43.879773\n",
       "pics           97.620553\n",
       "resp           87.530172\n",
       "gmap_id         0.000000\n",
       "text_length     0.000000\n",
       "dtype: float64"
      ]
     },
     "execution_count": 19,
     "metadata": {},
     "output_type": "execute_result"
    }
   ],
   "source": [
    "null_percentages = combined_df.isnull().mean() * 100\n",
    "null_percentages"
   ]
  },
  {
   "cell_type": "markdown",
   "metadata": {},
   "source": [
    "Distribución de Ratings"
   ]
  },
  {
   "cell_type": "code",
   "execution_count": 10,
   "metadata": {},
   "outputs": [
    {
     "data": {
      "image/png": "[encoded data removed]",
      "text/plain": [
       "<Figure size 800x600 with 1 Axes>"
      ]
     },
     "metadata": {},
     "output_type": "display_data"
    }
   ],
   "source": [
    "plt.figure(figsize=(8, 6))\n",
    "sns.histplot(combined_df['rating'].dropna(), bins=5, kde=True)\n",
    "plt.title('Distribution of Ratings')\n",
    "plt.xlabel('Rating')\n",
    "plt.ylabel('Frequency')\n",
    "plt.show()"
   ]
  },
  {
   "cell_type": "markdown",
   "metadata": {},
   "source": [
    "Conteo de Reviews por Usuario"
   ]
  },
  {
   "cell_type": "code",
   "execution_count": 11,
   "metadata": {},
   "outputs": [
    {
     "data": {
      "image/png": "[encoded data removed]",
      "text/plain": [
       "<Figure size 1200x600 with 1 Axes>"
      ]
     },
     "metadata": {},
     "output_type": "display_data"
    }
   ],
   "source": [
    "plt.figure(figsize=(12, 6))\n",
    "reviews_per_user = combined_df['user_id'].value_counts().head(10)\n",
    "sns.barplot(x=reviews_per_user.index, y=reviews_per_user.values)\n",
    "plt.title('Top 10 Users by Number of Reviews')\n",
    "plt.xlabel('User ID')\n",
    "plt.ylabel('Number of Reviews')\n",
    "plt.show()"
   ]
  },
  {
   "cell_type": "markdown",
   "metadata": {},
   "source": [
    "Longitud de Texto de los Reviews"
   ]
  },
  {
   "cell_type": "code",
   "execution_count": 13,
   "metadata": {},
   "outputs": [
    {
     "data": {
      "image/png": "[encoded data removed]",
      "text/plain": [
       "<Figure size 800x600 with 1 Axes>"
      ]
     },
     "metadata": {},
     "output_type": "display_data"
    }
   ],
   "source": [
    "# Calcular la longitud del texto de los reviews\n",
    "combined_df['text_length'] = combined_df['text'].apply(lambda x: len(str(x)))\n",
    "\n",
    "plt.figure(figsize=(8, 6))\n",
    "sns.histplot(combined_df['text_length'].dropna(), bins=50, kde=True)\n",
    "plt.title('Distribution of Review Text Lengths')\n",
    "plt.xlabel('Text Length')\n",
    "plt.ylabel('Frequency')\n",
    "plt.show()"
   ]
  }
 ],
 "metadata": {
  "kernelspec": {
   "display_name": "Python 3",
   "language": "python",
   "name": "python3"
  },
  "language_info": {
   "codemirror_mode": {
    "name": "ipython",
    "version": 3
   },
   "file_extension": ".py",
   "mimetype": "text/x-python",
   "name": "python",
   "nbconvert_exporter": "python",
   "pygments_lexer": "ipython3",
   "version": "3.12.4"
  }
 },
 "nbformat": 4,
 "nbformat_minor": 2
}
